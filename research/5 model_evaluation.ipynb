{
 "cells": [
  {
   "cell_type": "markdown",
   "id": "cb68fbc8",
   "metadata": {},
   "source": [
    "For model evaluation we will be using MLFLOW and DAGSHUB"
   ]
  },
  {
   "cell_type": "code",
   "execution_count": 2,
   "id": "779bfb0f",
   "metadata": {},
   "outputs": [],
   "source": [
    "import os\n",
    "os.environ[\"MLFLOW_TRACKING_URI\"]=\"https://dagshub.com/alokchoudhary/DataScienceProject.mlflow\"\n",
    "os.environ[\"MLFLOW_TRACKING_USERNAME\"]=\"alokchoudhary\"\n",
    "os.environ[\"MLFLOW_TRACKING_PASSWORD\"]=\"ba1325e0b08be027b9667e6eab725702d8285115 \""
   ]
  },
  {
   "cell_type": "code",
   "execution_count": 1,
   "id": "d7304725",
   "metadata": {},
   "outputs": [
    {
     "data": {
      "text/plain": [
       "'c:\\\\Users\\\\alok4\\\\Desktop\\\\DataScienceProject\\\\research'"
      ]
     },
     "execution_count": 1,
     "metadata": {},
     "output_type": "execute_result"
    }
   ],
   "source": [
    "import os\n",
    "%pwd"
   ]
  },
  {
   "cell_type": "code",
   "execution_count": 5,
   "id": "fbf81a1e",
   "metadata": {},
   "outputs": [],
   "source": [
    "os.chdir('../')"
   ]
  },
  {
   "cell_type": "code",
   "execution_count": null,
   "metadata": {},
   "outputs": [],
   "source": []
  },
  {
   "cell_type": "code",
   "execution_count": 3,
   "id": "27d0f271",
   "metadata": {},
   "outputs": [],
   "source": [
    "from dataclasses import dataclass\n",
    "from pathlib import Path\n",
    "@dataclass\n",
    "class ModelEvaluationConfig:\n",
    "    root_dir:Path\n",
    "    test_data_path:Path\n",
    "    model_path:Path\n",
    "    all_params:dict\n",
    "    metric_file_name:Path\n",
    "    target_column:str\n",
    "    mlflow_uri:str"
   ]
  },
  {
   "cell_type": "code",
   "execution_count": 6,
   "id": "2d39879e",
   "metadata": {},
   "outputs": [],
   "source": [
    "from src.datascience.constants import *\n",
    "from src.datascience.utils.common import read_yaml,create_directories,save_json"
   ]
  },
  {
   "cell_type": "code",
   "execution_count": null,
   "id": "beff42c5",
   "metadata": {},
   "outputs": [],
   "source": [
    "class ConfigurationManager:\n",
    "    def __init__(self,config_filepath=CONFIG_FILE_PATH,\n",
    "                 params_filepath=PARAMS_FILE_PATH,\n",
    "                 schema_filepath=SCHEMA_FILE_PATH):\n",
    "        self.config=read_yaml(config_filepath)\n",
    "        self.schema=read_yaml(schema_filepath)\n",
    "        self.params=read_yaml(params_filepath)\n",
    "\n",
    "        create_directories([self.config.artifacts_root])\n",
    "\n",
    "    def get_model_evaluation_config(self)->ModelEvaluationConfig:\n",
    "        config=self.config.model_evaluation\n",
    "        params=self.params.ElasticNet\n",
    "        schema=self.schema.T"
   ]
  }
 ],
 "metadata": {
  "kernelspec": {
   "display_name": "datascienceproject (3.13.5)",
   "language": "python",
   "name": "python3"
  },
  "language_info": {
   "codemirror_mode": {
    "name": "ipython",
    "version": 3
   },
   "file_extension": ".py",
   "mimetype": "text/x-python",
   "name": "python",
   "nbconvert_exporter": "python",
   "pygments_lexer": "ipython3",
   "version": "3.13.5"
  }
 },
 "nbformat": 4,
 "nbformat_minor": 5
}
